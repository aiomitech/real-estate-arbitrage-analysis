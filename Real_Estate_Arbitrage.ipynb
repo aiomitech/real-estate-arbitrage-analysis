{
 "cells": [
  {
   "cell_type": "markdown",
   "metadata": {
    "id": "yh0trzdp_Z_K"
   },
   "source": [
    "# Entry-Level Data Science Project: \"Real Estate Arbitrage with Python\"\n",
    "\n",
    "This project is designed to introduce beginners to Python, its libraries (NumPy and pandas), and basic data science concepts while exploring real estate arbitrage—a common strategy in the real estate industry. The project focuses on analyzing data to identify opportunities for arbitrage by comparing property rental prices across different neighborhoods or platforms.\n",
    "\n",
    "## Objective\n",
    "\n",
    "The goal of the project is to use Python and Google Colab to analyze a dataset of property listings and identify neighborhoods or properties where arbitrage opportunities exist. Specifically, students will:\n",
    "\n",
    "- Clean and preprocess data.\n",
    "- Perform exploratory data analysis (EDA) using pandas and NumPy.\n",
    "- Use basic statistical analysis to calculate potential arbitrage profits.\n",
    "- Visualize insights using Python libraries.\n",
    "\n",
    "\n",
    "## Background on Real Estate Arbitrage\n",
    "\n",
    "Real estate arbitrage involves renting properties in one market (often at a lower cost) and leasing them in another market or platform (e.g., Airbnb) at a higher price. For example:\n",
    "\n",
    "- Renting a long-term property lease in a suburban area and subletting it short-term on Airbnb.\n",
    "- Identifying properties undervalued in one neighborhood relative to another.\n",
    "\n",
    "This project simplifies the concept by comparing average rental prices across neighborhoods or platforms.\n",
    "\n",
    "## Dataset\n",
    "\n",
    "Provide a hypothetical dataset or source a real-world dataset from platforms like Kaggle or Inside Airbnb. The dataset should include:\n",
    "\n",
    "- Property ID\n",
    "- Neighborhood\n",
    "- Monthly Rental Price (long-term)\n",
    "- Average Daily Rental Price (short-term)\n",
    "- Occupancy Rate (short-term rentals)\n",
    "- Property Size (sq. ft.)\n",
    "- Property Type (Apartment, House, etc.)\n",
    "\n",
    "You can create a small sample dataset as a CSV file for simplicity."
   ]
  },
  {
   "cell_type": "markdown",
   "metadata": {
    "id": "PxfaclfeB9eB"
   },
   "source": [
    "## Setting Up Google Colab\n",
    "\n",
    "- Introduction to Google Colab: Setting up the environment, importing libraries, and uploading the dataset.\n",
    "- Import necessary libraries:"
   ]
  },
  {
   "cell_type": "code",
   "execution_count": 5,
   "metadata": {
    "id": "_Tqzmke7_bkl"
   },
   "outputs": [],
   "source": [
    "import pandas as pd\n",
    "import numpy as np"
   ]
  },
  {
   "cell_type": "markdown",
   "metadata": {
    "id": "u-THQkxxCQ_2"
   },
   "source": [
    "## Data Loading and Exploration\n",
    "\n",
    "- If using Google Colab then mount a Google drive and access from Colab:"
   ]
  },
  {
   "cell_type": "code",
   "execution_count": 6,
   "metadata": {
    "colab": {
     "base_uri": "https://localhost:8080/"
    },
    "executionInfo": {
     "elapsed": 717,
     "status": "ok",
     "timestamp": 1734463019315,
     "user": {
      "displayName": "Steve Livingston",
      "userId": "17942792940725670582"
     },
     "user_tz": 360
    },
    "id": "CSo7DT5LCVXn",
    "outputId": "4fee879f-d392-40fb-8c58-bed31912f3ca"
   },
   "outputs": [],
   "source": [
    "# mount drive\n",
    "# from google.colab import drive\n",
    "# drive.mount('/content/drive')"
   ]
  },
  {
   "cell_type": "markdown",
   "metadata": {
    "id": "MrAZsyXpDfTp"
   },
   "source": [
    "- Load the dataset into a pandas DataFrame:"
   ]
  },
  {
   "cell_type": "code",
   "execution_count": 7,
   "metadata": {
    "id": "9Gu1ULm-DZ_v"
   },
   "outputs": [],
   "source": [
    "# Set Path to Data File\n",
    "\n",
    "# Google Colab\n",
    "# path = '/content/drive/MyDrive/AI/Real Estate Arbitrage/'\n",
    "# Windows Local\n",
    "path = 'C:\\\\Repos\\\\Aiomi\\\\real-estate-arbitrage-analysis\\\\data\\\\'\n",
    "\n",
    "# load data\n",
    "data = pd.read_csv(path + 'real_estate_data.csv')"
   ]
  },
  {
   "cell_type": "markdown",
   "metadata": {
    "id": "fniwDq-BDv3E"
   },
   "source": [
    "- Display the first few rows using .head()."
   ]
  },
  {
   "cell_type": "code",
   "execution_count": 8,
   "metadata": {
    "colab": {
     "base_uri": "https://localhost:8080/",
     "height": 206
    },
    "executionInfo": {
     "elapsed": 171,
     "status": "ok",
     "timestamp": 1734463141490,
     "user": {
      "displayName": "Steve Livingston",
      "userId": "17942792940725670582"
     },
     "user_tz": 360
    },
    "id": "Kb18QV4HDwnL",
    "outputId": "e685e35a-3eda-49ec-c66a-2d4d59e4c9a4"
   },
   "outputs": [
    {
     "data": {
      "text/html": [
       "<div>\n",
       "<style scoped>\n",
       "    .dataframe tbody tr th:only-of-type {\n",
       "        vertical-align: middle;\n",
       "    }\n",
       "\n",
       "    .dataframe tbody tr th {\n",
       "        vertical-align: top;\n",
       "    }\n",
       "\n",
       "    .dataframe thead th {\n",
       "        text-align: right;\n",
       "    }\n",
       "</style>\n",
       "<table border=\"1\" class=\"dataframe\">\n",
       "  <thead>\n",
       "    <tr style=\"text-align: right;\">\n",
       "      <th></th>\n",
       "      <th>Property_ID</th>\n",
       "      <th>Neighborhood</th>\n",
       "      <th>Monthly_Rental_Price</th>\n",
       "      <th>Avg_Daily_Rental_Price</th>\n",
       "      <th>Occupancy_Rate</th>\n",
       "      <th>Property_Size</th>\n",
       "      <th>Property_Type</th>\n",
       "    </tr>\n",
       "  </thead>\n",
       "  <tbody>\n",
       "    <tr>\n",
       "      <th>0</th>\n",
       "      <td>1</td>\n",
       "      <td>Rural</td>\n",
       "      <td>2827</td>\n",
       "      <td>191.44</td>\n",
       "      <td>0.42</td>\n",
       "      <td>1592</td>\n",
       "      <td>Apartment</td>\n",
       "    </tr>\n",
       "    <tr>\n",
       "      <th>1</th>\n",
       "      <td>2</td>\n",
       "      <td>Downtown</td>\n",
       "      <td>3495</td>\n",
       "      <td>98.48</td>\n",
       "      <td>0.73</td>\n",
       "      <td>1508</td>\n",
       "      <td>Apartment</td>\n",
       "    </tr>\n",
       "    <tr>\n",
       "      <th>2</th>\n",
       "      <td>3</td>\n",
       "      <td>Rural</td>\n",
       "      <td>2295</td>\n",
       "      <td>127.82</td>\n",
       "      <td>0.47</td>\n",
       "      <td>2641</td>\n",
       "      <td>Condo</td>\n",
       "    </tr>\n",
       "    <tr>\n",
       "      <th>3</th>\n",
       "      <td>4</td>\n",
       "      <td>Rural</td>\n",
       "      <td>3934</td>\n",
       "      <td>155.45</td>\n",
       "      <td>0.31</td>\n",
       "      <td>2273</td>\n",
       "      <td>Apartment</td>\n",
       "    </tr>\n",
       "    <tr>\n",
       "      <th>4</th>\n",
       "      <td>5</td>\n",
       "      <td>Downtown</td>\n",
       "      <td>1962</td>\n",
       "      <td>104.54</td>\n",
       "      <td>0.69</td>\n",
       "      <td>1457</td>\n",
       "      <td>Condo</td>\n",
       "    </tr>\n",
       "  </tbody>\n",
       "</table>\n",
       "</div>"
      ],
      "text/plain": [
       "   Property_ID Neighborhood  Monthly_Rental_Price  Avg_Daily_Rental_Price  \\\n",
       "0            1        Rural                  2827                  191.44   \n",
       "1            2     Downtown                  3495                   98.48   \n",
       "2            3        Rural                  2295                  127.82   \n",
       "3            4        Rural                  3934                  155.45   \n",
       "4            5     Downtown                  1962                  104.54   \n",
       "\n",
       "   Occupancy_Rate  Property_Size Property_Type  \n",
       "0            0.42           1592     Apartment  \n",
       "1            0.73           1508     Apartment  \n",
       "2            0.47           2641         Condo  \n",
       "3            0.31           2273     Apartment  \n",
       "4            0.69           1457         Condo  "
      ]
     },
     "execution_count": 8,
     "metadata": {},
     "output_type": "execute_result"
    }
   ],
   "source": [
    "data.head()"
   ]
  },
  {
   "cell_type": "markdown",
   "metadata": {
    "id": "PRxXa7iaD5ZW"
   },
   "source": [
    "- Check for missing values and data types using .info() and .isnull().sum()"
   ]
  },
  {
   "cell_type": "code",
   "execution_count": 9,
   "metadata": {
    "colab": {
     "base_uri": "https://localhost:8080/"
    },
    "executionInfo": {
     "elapsed": 57,
     "status": "ok",
     "timestamp": 1734463186774,
     "user": {
      "displayName": "Steve Livingston",
      "userId": "17942792940725670582"
     },
     "user_tz": 360
    },
    "id": "s0ZNSg1ZD67X",
    "outputId": "e9e58db0-415a-4f80-8473-b5195cf7c0ea"
   },
   "outputs": [
    {
     "name": "stdout",
     "output_type": "stream",
     "text": [
      "<class 'pandas.core.frame.DataFrame'>\n",
      "RangeIndex: 100 entries, 0 to 99\n",
      "Data columns (total 7 columns):\n",
      " #   Column                  Non-Null Count  Dtype  \n",
      "---  ------                  --------------  -----  \n",
      " 0   Property_ID             100 non-null    int64  \n",
      " 1   Neighborhood            100 non-null    object \n",
      " 2   Monthly_Rental_Price    100 non-null    int64  \n",
      " 3   Avg_Daily_Rental_Price  100 non-null    float64\n",
      " 4   Occupancy_Rate          100 non-null    float64\n",
      " 5   Property_Size           100 non-null    int64  \n",
      " 6   Property_Type           100 non-null    object \n",
      "dtypes: float64(2), int64(3), object(2)\n",
      "memory usage: 5.6+ KB\n"
     ]
    }
   ],
   "source": [
    "data.info()"
   ]
  },
  {
   "cell_type": "code",
   "execution_count": 10,
   "metadata": {
    "colab": {
     "base_uri": "https://localhost:8080/",
     "height": 304
    },
    "executionInfo": {
     "elapsed": 77,
     "status": "ok",
     "timestamp": 1734463227402,
     "user": {
      "displayName": "Steve Livingston",
      "userId": "17942792940725670582"
     },
     "user_tz": 360
    },
    "id": "uvK4VDf5EA4h",
    "outputId": "5fcf2f19-ca47-44f0-a0e5-2e5db58ca8af"
   },
   "outputs": [
    {
     "data": {
      "text/plain": [
       "Property_ID               0\n",
       "Neighborhood              0\n",
       "Monthly_Rental_Price      0\n",
       "Avg_Daily_Rental_Price    0\n",
       "Occupancy_Rate            0\n",
       "Property_Size             0\n",
       "Property_Type             0\n",
       "dtype: int64"
      ]
     },
     "execution_count": 10,
     "metadata": {},
     "output_type": "execute_result"
    }
   ],
   "source": [
    "data.isnull().sum()"
   ]
  },
  {
   "cell_type": "markdown",
   "metadata": {
    "id": "7yrBmyEdEMqP"
   },
   "source": [
    "## Data Cleaning\n",
    "\n",
    "- Handle missing values (e.g., drop rows or fill with averages).\n",
    "- Convert data types if necessary.\n",
    "- Remove duplicate entries."
   ]
  },
  {
   "cell_type": "code",
   "execution_count": null,
   "metadata": {
    "id": "7Xzld31bHH-m"
   },
   "outputs": [],
   "source": []
  },
  {
   "cell_type": "markdown",
   "metadata": {
    "id": "uYVlWzpbEaw-"
   },
   "source": [
    "## Exploratory Data Analysis (EDA)\n",
    "\n",
    "- Use .describe() to summarize the data"
   ]
  },
  {
   "cell_type": "code",
   "execution_count": 11,
   "metadata": {
    "colab": {
     "base_uri": "https://localhost:8080/",
     "height": 300
    },
    "executionInfo": {
     "elapsed": 202,
     "status": "ok",
     "timestamp": 1734463337240,
     "user": {
      "displayName": "Steve Livingston",
      "userId": "17942792940725670582"
     },
     "user_tz": 360
    },
    "id": "gzPBayrbEhCS",
    "outputId": "9083188e-7b76-4627-887f-8f634ef928ad"
   },
   "outputs": [
    {
     "data": {
      "text/html": [
       "<div>\n",
       "<style scoped>\n",
       "    .dataframe tbody tr th:only-of-type {\n",
       "        vertical-align: middle;\n",
       "    }\n",
       "\n",
       "    .dataframe tbody tr th {\n",
       "        vertical-align: top;\n",
       "    }\n",
       "\n",
       "    .dataframe thead th {\n",
       "        text-align: right;\n",
       "    }\n",
       "</style>\n",
       "<table border=\"1\" class=\"dataframe\">\n",
       "  <thead>\n",
       "    <tr style=\"text-align: right;\">\n",
       "      <th></th>\n",
       "      <th>Property_ID</th>\n",
       "      <th>Monthly_Rental_Price</th>\n",
       "      <th>Avg_Daily_Rental_Price</th>\n",
       "      <th>Occupancy_Rate</th>\n",
       "      <th>Property_Size</th>\n",
       "    </tr>\n",
       "  </thead>\n",
       "  <tbody>\n",
       "    <tr>\n",
       "      <th>count</th>\n",
       "      <td>100.000000</td>\n",
       "      <td>100.000000</td>\n",
       "      <td>100.000000</td>\n",
       "      <td>100.000000</td>\n",
       "      <td>100.000000</td>\n",
       "    </tr>\n",
       "    <tr>\n",
       "      <th>mean</th>\n",
       "      <td>50.500000</td>\n",
       "      <td>2507.460000</td>\n",
       "      <td>124.835500</td>\n",
       "      <td>0.610300</td>\n",
       "      <td>2099.490000</td>\n",
       "    </tr>\n",
       "    <tr>\n",
       "      <th>std</th>\n",
       "      <td>29.011492</td>\n",
       "      <td>865.655359</td>\n",
       "      <td>42.843549</td>\n",
       "      <td>0.176952</td>\n",
       "      <td>842.264582</td>\n",
       "    </tr>\n",
       "    <tr>\n",
       "      <th>min</th>\n",
       "      <td>1.000000</td>\n",
       "      <td>895.000000</td>\n",
       "      <td>50.760000</td>\n",
       "      <td>0.310000</td>\n",
       "      <td>511.000000</td>\n",
       "    </tr>\n",
       "    <tr>\n",
       "      <th>25%</th>\n",
       "      <td>25.750000</td>\n",
       "      <td>1826.000000</td>\n",
       "      <td>86.527500</td>\n",
       "      <td>0.470000</td>\n",
       "      <td>1389.250000</td>\n",
       "    </tr>\n",
       "    <tr>\n",
       "      <th>50%</th>\n",
       "      <td>50.500000</td>\n",
       "      <td>2470.500000</td>\n",
       "      <td>128.635000</td>\n",
       "      <td>0.625000</td>\n",
       "      <td>2133.000000</td>\n",
       "    </tr>\n",
       "    <tr>\n",
       "      <th>75%</th>\n",
       "      <td>75.250000</td>\n",
       "      <td>3380.000000</td>\n",
       "      <td>155.795000</td>\n",
       "      <td>0.752500</td>\n",
       "      <td>2810.250000</td>\n",
       "    </tr>\n",
       "    <tr>\n",
       "      <th>max</th>\n",
       "      <td>100.000000</td>\n",
       "      <td>3957.000000</td>\n",
       "      <td>197.850000</td>\n",
       "      <td>0.890000</td>\n",
       "      <td>3467.000000</td>\n",
       "    </tr>\n",
       "  </tbody>\n",
       "</table>\n",
       "</div>"
      ],
      "text/plain": [
       "       Property_ID  Monthly_Rental_Price  Avg_Daily_Rental_Price  \\\n",
       "count   100.000000            100.000000              100.000000   \n",
       "mean     50.500000           2507.460000              124.835500   \n",
       "std      29.011492            865.655359               42.843549   \n",
       "min       1.000000            895.000000               50.760000   \n",
       "25%      25.750000           1826.000000               86.527500   \n",
       "50%      50.500000           2470.500000              128.635000   \n",
       "75%      75.250000           3380.000000              155.795000   \n",
       "max     100.000000           3957.000000              197.850000   \n",
       "\n",
       "       Occupancy_Rate  Property_Size  \n",
       "count      100.000000     100.000000  \n",
       "mean         0.610300    2099.490000  \n",
       "std          0.176952     842.264582  \n",
       "min          0.310000     511.000000  \n",
       "25%          0.470000    1389.250000  \n",
       "50%          0.625000    2133.000000  \n",
       "75%          0.752500    2810.250000  \n",
       "max          0.890000    3467.000000  "
      ]
     },
     "execution_count": 11,
     "metadata": {},
     "output_type": "execute_result"
    }
   ],
   "source": [
    "data.describe()"
   ]
  },
  {
   "cell_type": "markdown",
   "metadata": {
    "id": "tQp_hlOrEpx9"
   },
   "source": [
    "- Calculate average rental prices for each neighborhood:"
   ]
  },
  {
   "cell_type": "code",
   "execution_count": 12,
   "metadata": {
    "colab": {
     "base_uri": "https://localhost:8080/"
    },
    "executionInfo": {
     "elapsed": 54,
     "status": "ok",
     "timestamp": 1734463391762,
     "user": {
      "displayName": "Steve Livingston",
      "userId": "17942792940725670582"
     },
     "user_tz": 360
    },
    "id": "KQAw5UtGEsJ0",
    "outputId": "162f3160-f4a3-473b-e96b-a39b6c71c867"
   },
   "outputs": [
    {
     "name": "stdout",
     "output_type": "stream",
     "text": [
      "Neighborhood\n",
      "Downtown    2181.818182\n",
      "Rural       2673.096774\n",
      "Suburb      2663.333333\n",
      "Name: Monthly_Rental_Price, dtype: float64\n"
     ]
    }
   ],
   "source": [
    "avg_rent = data.groupby('Neighborhood')['Monthly_Rental_Price'].mean()\n",
    "print(avg_rent)"
   ]
  },
  {
   "cell_type": "markdown",
   "metadata": {
    "id": "ecLL3c0wE4Z9"
   },
   "source": [
    "- Identify neighborhoods with the highest potential for arbitrage by comparing:\n",
    "    - Monthly rental prices (long-term).\n",
    "    - Daily rental prices multiplied by the occupancy rate (short-term)."
   ]
  },
  {
   "cell_type": "markdown",
   "metadata": {
    "id": "3_5gDcKYE_c6"
   },
   "source": [
    "## Calculating Arbitrage Opportunities\n",
    "\n",
    "- Create a new column for estimated short-term rental income:"
   ]
  },
  {
   "cell_type": "code",
   "execution_count": 13,
   "metadata": {
    "executionInfo": {
     "elapsed": 103,
     "status": "ok",
     "timestamp": 1734463485660,
     "user": {
      "displayName": "Steve Livingston",
      "userId": "17942792940725670582"
     },
     "user_tz": 360
    },
    "id": "2pQ9jMf4FE9H"
   },
   "outputs": [],
   "source": [
    "data['Short_Term_Income'] = data['Avg_Daily_Rental_Price'] * data['Occupancy_Rate'] * 30"
   ]
  },
  {
   "cell_type": "markdown",
   "metadata": {
    "id": "9-dnUPVuFKlO"
   },
   "source": [
    "- Calculate potential profit:"
   ]
  },
  {
   "cell_type": "code",
   "execution_count": 20,
   "metadata": {
    "executionInfo": {
     "elapsed": 87,
     "status": "ok",
     "timestamp": 1734463509150,
     "user": {
      "displayName": "Steve Livingston",
      "userId": "17942792940725670582"
     },
     "user_tz": 360
    },
    "id": "Z0iMRAOKFLUD"
   },
   "outputs": [],
   "source": [
    "data['Arbitrage_Profit'] = data['Short_Term_Income'] - data['Monthly_Rental_Price']"
   ]
  },
  {
   "cell_type": "markdown",
   "metadata": {
    "id": "MkbkZAg3FQw5"
   },
   "source": [
    "- Filter properties with significant profit margins:"
   ]
  },
  {
   "cell_type": "code",
   "execution_count": 21,
   "metadata": {
    "colab": {
     "base_uri": "https://localhost:8080/"
    },
    "executionInfo": {
     "elapsed": 113,
     "status": "ok",
     "timestamp": 1734463538754,
     "user": {
      "displayName": "Steve Livingston",
      "userId": "17942792940725670582"
     },
     "user_tz": 360
    },
    "id": "S8kKktTsFRLS",
    "outputId": "0b4a38db-4ce5-4532-9760-83973540e3dc"
   },
   "outputs": [
    {
     "name": "stdout",
     "output_type": "stream",
     "text": [
      "    Property_ID Neighborhood  Monthly_Rental_Price  Avg_Daily_Rental_Price  \\\n",
      "4             5     Downtown                  1962                  104.54   \n",
      "5             6     Downtown                  2322                  195.77   \n",
      "6             7        Rural                  3440                  194.37   \n",
      "7             8       Suburb                  1191                   87.77   \n",
      "8             9        Rural                  2498                  124.59   \n",
      "9            10        Rural                  1218                   95.13   \n",
      "11           12        Rural                  1178                   55.53   \n",
      "13           14        Rural                  3078                  125.40   \n",
      "18           19       Suburb                  1000                   71.73   \n",
      "20           21     Downtown                  1579                  197.85   \n",
      "24           25     Downtown                  1302                   85.65   \n",
      "27           28        Rural                  1604                  144.85   \n",
      "31           32        Rural                  3573                  175.30   \n",
      "36           37        Rural                  3490                  151.63   \n",
      "38           39     Downtown                  1302                  126.81   \n",
      "40           41     Downtown                  1197                  146.78   \n",
      "43           44     Downtown                  1192                  108.01   \n",
      "44           45     Downtown                  1006                  190.51   \n",
      "48           49       Suburb                  2284                  188.70   \n",
      "49           50       Suburb                  1663                  181.60   \n",
      "51           52     Downtown                  1363                  149.00   \n",
      "52           53       Suburb                  1820                  172.58   \n",
      "53           54     Downtown                   895                  133.28   \n",
      "58           59        Rural                  3596                  185.06   \n",
      "61           62     Downtown                  1859                  102.38   \n",
      "62           63       Suburb                  3372                  158.89   \n",
      "63           64       Suburb                  1983                  184.57   \n",
      "64           65       Suburb                  2522                  183.06   \n",
      "69           70     Downtown                  3404                  184.78   \n",
      "70           71        Rural                  2397                  140.96   \n",
      "73           74       Suburb                  1595                  149.53   \n",
      "76           77       Suburb                  2163                  132.31   \n",
      "80           81        Rural                  2329                  156.83   \n",
      "85           86       Suburb                  2200                  177.38   \n",
      "86           87        Rural                  2106                  148.64   \n",
      "92           93     Downtown                  1509                  195.95   \n",
      "94           95     Downtown                  2234                  183.81   \n",
      "95           96     Downtown                  1448                  144.67   \n",
      "96           97     Downtown                  1117                  169.22   \n",
      "97           98        Rural                  2057                  125.40   \n",
      "\n",
      "    Occupancy_Rate  Property_Size Property_Type  Short_Term_Income  \\\n",
      "4             0.69           1457         Condo           2163.978   \n",
      "5             0.41            952         House           2407.971   \n",
      "6             0.86           1727         Condo           5014.746   \n",
      "7             0.87           3459         Condo           2290.797   \n",
      "8             0.85           2765         House           3177.045   \n",
      "9             0.52           3021         Condo           1484.028   \n",
      "11            0.86           2888     Apartment           1432.674   \n",
      "13            0.88           2135     Apartment           3310.560   \n",
      "18            0.81           2285     Apartment           1743.039   \n",
      "20            0.40           2281     Apartment           2374.200   \n",
      "24            0.64           2131         Condo           1644.480   \n",
      "27            0.89           1848         House           3867.495   \n",
      "31            0.74           2282     Apartment           3891.660   \n",
      "36            0.79           1351     Apartment           3593.631   \n",
      "38            0.82           2431         House           3119.526   \n",
      "40            0.61           2927     Apartment           2686.074   \n",
      "43            0.69           3238         House           2235.807   \n",
      "44            0.72           2136     Apartment           4115.016   \n",
      "48            0.53           1566         Condo           3000.330   \n",
      "49            0.36            784         House           1961.280   \n",
      "51            0.32            511     Apartment           1430.400   \n",
      "52            0.58           2130     Apartment           3002.892   \n",
      "53            0.63           3046     Apartment           2518.992   \n",
      "58            0.79            589         House           4385.922   \n",
      "61            0.61           2125         Condo           1873.554   \n",
      "62            0.76            917     Apartment           3622.692   \n",
      "63            0.43            614     Apartment           2380.953   \n",
      "64            0.67           1116         House           3679.506   \n",
      "69            0.68           1228         Condo           3769.512   \n",
      "70            0.74           3308         Condo           3129.312   \n",
      "73            0.49           3004         Condo           2198.091   \n",
      "76            0.56           3286         Condo           2222.808   \n",
      "80            0.80           1508         House           3763.920   \n",
      "85            0.45           2048         Condo           2394.630   \n",
      "86            0.63           2826     Apartment           2809.296   \n",
      "92            0.63           2609     Apartment           3703.455   \n",
      "94            0.55           2403     Apartment           3032.865   \n",
      "95            0.45           1228         House           1953.045   \n",
      "96            0.51           1865     Apartment           2589.066   \n",
      "97            0.75            896         House           2821.500   \n",
      "\n",
      "    Arbitrage_Profit  \n",
      "4            201.978  \n",
      "5             85.971  \n",
      "6           1574.746  \n",
      "7           1099.797  \n",
      "8            679.045  \n",
      "9            266.028  \n",
      "11           254.674  \n",
      "13           232.560  \n",
      "18           743.039  \n",
      "20           795.200  \n",
      "24           342.480  \n",
      "27          2263.495  \n",
      "31           318.660  \n",
      "36           103.631  \n",
      "38          1817.526  \n",
      "40          1489.074  \n",
      "43          1043.807  \n",
      "44          3109.016  \n",
      "48           716.330  \n",
      "49           298.280  \n",
      "51            67.400  \n",
      "52          1182.892  \n",
      "53          1623.992  \n",
      "58           789.922  \n",
      "61            14.554  \n",
      "62           250.692  \n",
      "63           397.953  \n",
      "64          1157.506  \n",
      "69           365.512  \n",
      "70           732.312  \n",
      "73           603.091  \n",
      "76            59.808  \n",
      "80          1434.920  \n",
      "85           194.630  \n",
      "86           703.296  \n",
      "92          2194.455  \n",
      "94           798.865  \n",
      "95           505.045  \n",
      "96          1472.066  \n",
      "97           764.500  \n"
     ]
    }
   ],
   "source": [
    "arbitrage_opportunities = data[data['Arbitrage_Profit'] > 0]\n",
    "print(arbitrage_opportunities)"
   ]
  },
  {
   "cell_type": "markdown",
   "metadata": {
    "id": "33UAlPeeFYRF"
   },
   "source": [
    "## Data Visualization\n",
    "\n",
    "- Create visualizations using matplotlib or seaborn to showcase:\n",
    "    - Importmatplotlib or seaborn\n",
    "    - Rental price comparisons by neighborhood.\n",
    "    - Top properties with the highest arbitrage potential."
   ]
  },
  {
   "cell_type": "code",
   "execution_count": 16,
   "metadata": {
    "executionInfo": {
     "elapsed": 78,
     "status": "ok",
     "timestamp": 1734463773443,
     "user": {
      "displayName": "Steve Livingston",
      "userId": "17942792940725670582"
     },
     "user_tz": 360
    },
    "id": "A3jmNsFYFmJ5"
   },
   "outputs": [],
   "source": [
    "import matplotlib.pyplot as plt\n",
    "import seaborn as sns"
   ]
  },
  {
   "cell_type": "code",
   "execution_count": 17,
   "metadata": {
    "colab": {
     "base_uri": "https://localhost:8080/",
     "height": 472
    },
    "executionInfo": {
     "elapsed": 537,
     "status": "ok",
     "timestamp": 1734463771267,
     "user": {
      "displayName": "Steve Livingston",
      "userId": "17942792940725670582"
     },
     "user_tz": 360
    },
    "id": "OmB9picwGMMo",
    "outputId": "f7304fec-26f4-4a43-b797-2565a181fcc1"
   },
   "outputs": [
    {
     "data": {
      "image/png": "[encoded data removed]",
      "text/plain": [
       "<Figure size 640x480 with 1 Axes>"
      ]
     },
     "metadata": {},
     "output_type": "display_data"
    }
   ],
   "source": [
    "# Plot arbitrage profits by neighborhood\n",
    "sns.barplot(x='Neighborhood', y='Arbitrage_Profit', data=arbitrage_opportunities)\n",
    "plt.title('Arbitrage Opportunities by Neighborhood')\n",
    "plt.show()"
   ]
  },
  {
   "cell_type": "markdown",
   "metadata": {
    "id": "DRGLLSTQGZ9J"
   },
   "source": [
    "## Insights and Conclusion\n",
    "\n",
    "  - Identify key neighborhoods with the highest arbitrage opportunities.\n",
    "  - Discuss potential next steps, such as deeper analysis, risk assessment, or applying machine learning."
   ]
  },
  {
   "cell_type": "code",
   "execution_count": null,
   "metadata": {
    "id": "WxP1pXGcHFjQ"
   },
   "outputs": [],
   "source": []
  },
  {
   "cell_type": "markdown",
   "metadata": {
    "id": "BShde4MJGi3J"
   },
   "source": [
    "## Stretch Goal: Machine Learning\n",
    "\n",
    "- Use a basic regression model (e.g., Linear Regression from scikit-learn) to predict arbitrage profit based on property features:"
   ]
  },
  {
   "cell_type": "code",
   "execution_count": 18,
   "metadata": {
    "executionInfo": {
     "elapsed": 1164,
     "status": "ok",
     "timestamp": 1734463909567,
     "user": {
      "displayName": "Steve Livingston",
      "userId": "17942792940725670582"
     },
     "user_tz": 360
    },
    "id": "DhvsiRBVGogr"
   },
   "outputs": [],
   "source": [
    "from sklearn.model_selection import train_test_split\n",
    "from sklearn.linear_model import LinearRegression"
   ]
  },
  {
   "cell_type": "code",
   "execution_count": 22,
   "metadata": {
    "executionInfo": {
     "elapsed": 75,
     "status": "ok",
     "timestamp": 1734463912260,
     "user": {
      "displayName": "Steve Livingston",
      "userId": "17942792940725670582"
     },
     "user_tz": 360
    },
    "id": "mdMDE1cTGuLX"
   },
   "outputs": [
    {
     "name": "stdout",
     "output_type": "stream",
     "text": [
      "[-1109.80781983   971.42371577  -520.55157277   349.38851852\n",
      "  1067.1843551  -1666.63048558 -1959.44200842   -56.61321144\n",
      " -1153.11112691  -550.65362546  1039.88217378  -256.82806976\n",
      "   312.47401545   600.08636315  -465.00111992   305.05168137\n",
      "  -292.28480126  -513.38974431  -209.97790352 -1415.78637449]\n"
     ]
    }
   ],
   "source": [
    "# Define features and target\n",
    "X = data[['Monthly_Rental_Price', 'Property_Size']]\n",
    "y = data['Arbitrage_Profit']\n",
    "\n",
    "# Train-test split\n",
    "X_train, X_test, y_train, y_test = train_test_split(X, y, test_size=0.2, random_state=42)\n",
    "\n",
    "# Train model\n",
    "model = LinearRegression()\n",
    "model.fit(X_train, y_train)\n",
    "\n",
    "# Predictions\n",
    "predictions = model.predict(X_test)\n",
    "\n",
    "print(predictions)"
   ]
  },
  {
   "cell_type": "code",
   "execution_count": 24,
   "metadata": {},
   "outputs": [
    {
     "ename": "ValueError",
     "evalue": "x and y must be the same size",
     "output_type": "error",
     "traceback": [
      "\u001b[1;31m---------------------------------------------------------------------------\u001b[0m",
      "\u001b[1;31mValueError\u001b[0m                                Traceback (most recent call last)",
      "Cell \u001b[1;32mIn[24], line 2\u001b[0m\n\u001b[0;32m      1\u001b[0m \u001b[38;5;66;03m# Plotting\u001b[39;00m\n\u001b[1;32m----> 2\u001b[0m plt\u001b[38;5;241m.\u001b[39mscatter(X, y, color\u001b[38;5;241m=\u001b[39m\u001b[38;5;124m'\u001b[39m\u001b[38;5;124mblue\u001b[39m\u001b[38;5;124m'\u001b[39m, label\u001b[38;5;241m=\u001b[39m\u001b[38;5;124m'\u001b[39m\u001b[38;5;124mData Points\u001b[39m\u001b[38;5;124m'\u001b[39m)  \u001b[38;5;66;03m# Scatter plot of the data\u001b[39;00m\n\u001b[0;32m      3\u001b[0m plt\u001b[38;5;241m.\u001b[39mplot(X_test, predictions, color\u001b[38;5;241m=\u001b[39m\u001b[38;5;124m'\u001b[39m\u001b[38;5;124mred\u001b[39m\u001b[38;5;124m'\u001b[39m, label\u001b[38;5;241m=\u001b[39m\u001b[38;5;124m'\u001b[39m\u001b[38;5;124mRegression Line\u001b[39m\u001b[38;5;124m'\u001b[39m)  \u001b[38;5;66;03m# Regression line\u001b[39;00m\n\u001b[0;32m      4\u001b[0m plt\u001b[38;5;241m.\u001b[39mxlabel(\u001b[38;5;124m'\u001b[39m\u001b[38;5;124mX\u001b[39m\u001b[38;5;124m'\u001b[39m)\n",
      "File \u001b[1;32mc:\\Users\\csliv\\anaconda3\\Lib\\site-packages\\matplotlib\\pyplot.py:3903\u001b[0m, in \u001b[0;36mscatter\u001b[1;34m(x, y, s, c, marker, cmap, norm, vmin, vmax, alpha, linewidths, edgecolors, plotnonfinite, data, **kwargs)\u001b[0m\n\u001b[0;32m   3884\u001b[0m \u001b[38;5;129m@_copy_docstring_and_deprecators\u001b[39m(Axes\u001b[38;5;241m.\u001b[39mscatter)\n\u001b[0;32m   3885\u001b[0m \u001b[38;5;28;01mdef\u001b[39;00m \u001b[38;5;21mscatter\u001b[39m(\n\u001b[0;32m   3886\u001b[0m     x: \u001b[38;5;28mfloat\u001b[39m \u001b[38;5;241m|\u001b[39m ArrayLike,\n\u001b[1;32m   (...)\u001b[0m\n\u001b[0;32m   3901\u001b[0m     \u001b[38;5;241m*\u001b[39m\u001b[38;5;241m*\u001b[39mkwargs,\n\u001b[0;32m   3902\u001b[0m ) \u001b[38;5;241m-\u001b[39m\u001b[38;5;241m>\u001b[39m PathCollection:\n\u001b[1;32m-> 3903\u001b[0m     __ret \u001b[38;5;241m=\u001b[39m gca()\u001b[38;5;241m.\u001b[39mscatter(\n\u001b[0;32m   3904\u001b[0m         x,\n\u001b[0;32m   3905\u001b[0m         y,\n\u001b[0;32m   3906\u001b[0m         s\u001b[38;5;241m=\u001b[39ms,\n\u001b[0;32m   3907\u001b[0m         c\u001b[38;5;241m=\u001b[39mc,\n\u001b[0;32m   3908\u001b[0m         marker\u001b[38;5;241m=\u001b[39mmarker,\n\u001b[0;32m   3909\u001b[0m         cmap\u001b[38;5;241m=\u001b[39mcmap,\n\u001b[0;32m   3910\u001b[0m         norm\u001b[38;5;241m=\u001b[39mnorm,\n\u001b[0;32m   3911\u001b[0m         vmin\u001b[38;5;241m=\u001b[39mvmin,\n\u001b[0;32m   3912\u001b[0m         vmax\u001b[38;5;241m=\u001b[39mvmax,\n\u001b[0;32m   3913\u001b[0m         alpha\u001b[38;5;241m=\u001b[39malpha,\n\u001b[0;32m   3914\u001b[0m         linewidths\u001b[38;5;241m=\u001b[39mlinewidths,\n\u001b[0;32m   3915\u001b[0m         edgecolors\u001b[38;5;241m=\u001b[39medgecolors,\n\u001b[0;32m   3916\u001b[0m         plotnonfinite\u001b[38;5;241m=\u001b[39mplotnonfinite,\n\u001b[0;32m   3917\u001b[0m         \u001b[38;5;241m*\u001b[39m\u001b[38;5;241m*\u001b[39m({\u001b[38;5;124m\"\u001b[39m\u001b[38;5;124mdata\u001b[39m\u001b[38;5;124m\"\u001b[39m: data} \u001b[38;5;28;01mif\u001b[39;00m data \u001b[38;5;129;01mis\u001b[39;00m \u001b[38;5;129;01mnot\u001b[39;00m \u001b[38;5;28;01mNone\u001b[39;00m \u001b[38;5;28;01melse\u001b[39;00m {}),\n\u001b[0;32m   3918\u001b[0m         \u001b[38;5;241m*\u001b[39m\u001b[38;5;241m*\u001b[39mkwargs,\n\u001b[0;32m   3919\u001b[0m     )\n\u001b[0;32m   3920\u001b[0m     sci(__ret)\n\u001b[0;32m   3921\u001b[0m     \u001b[38;5;28;01mreturn\u001b[39;00m __ret\n",
      "File \u001b[1;32mc:\\Users\\csliv\\anaconda3\\Lib\\site-packages\\matplotlib\\__init__.py:1473\u001b[0m, in \u001b[0;36m_preprocess_data.<locals>.inner\u001b[1;34m(ax, data, *args, **kwargs)\u001b[0m\n\u001b[0;32m   1470\u001b[0m \u001b[38;5;129m@functools\u001b[39m\u001b[38;5;241m.\u001b[39mwraps(func)\n\u001b[0;32m   1471\u001b[0m \u001b[38;5;28;01mdef\u001b[39;00m \u001b[38;5;21minner\u001b[39m(ax, \u001b[38;5;241m*\u001b[39margs, data\u001b[38;5;241m=\u001b[39m\u001b[38;5;28;01mNone\u001b[39;00m, \u001b[38;5;241m*\u001b[39m\u001b[38;5;241m*\u001b[39mkwargs):\n\u001b[0;32m   1472\u001b[0m     \u001b[38;5;28;01mif\u001b[39;00m data \u001b[38;5;129;01mis\u001b[39;00m \u001b[38;5;28;01mNone\u001b[39;00m:\n\u001b[1;32m-> 1473\u001b[0m         \u001b[38;5;28;01mreturn\u001b[39;00m func(\n\u001b[0;32m   1474\u001b[0m             ax,\n\u001b[0;32m   1475\u001b[0m             \u001b[38;5;241m*\u001b[39m\u001b[38;5;28mmap\u001b[39m(sanitize_sequence, args),\n\u001b[0;32m   1476\u001b[0m             \u001b[38;5;241m*\u001b[39m\u001b[38;5;241m*\u001b[39m{k: sanitize_sequence(v) \u001b[38;5;28;01mfor\u001b[39;00m k, v \u001b[38;5;129;01min\u001b[39;00m kwargs\u001b[38;5;241m.\u001b[39mitems()})\n\u001b[0;32m   1478\u001b[0m     bound \u001b[38;5;241m=\u001b[39m new_sig\u001b[38;5;241m.\u001b[39mbind(ax, \u001b[38;5;241m*\u001b[39margs, \u001b[38;5;241m*\u001b[39m\u001b[38;5;241m*\u001b[39mkwargs)\n\u001b[0;32m   1479\u001b[0m     auto_label \u001b[38;5;241m=\u001b[39m (bound\u001b[38;5;241m.\u001b[39marguments\u001b[38;5;241m.\u001b[39mget(label_namer)\n\u001b[0;32m   1480\u001b[0m                   \u001b[38;5;129;01mor\u001b[39;00m bound\u001b[38;5;241m.\u001b[39mkwargs\u001b[38;5;241m.\u001b[39mget(label_namer))\n",
      "File \u001b[1;32mc:\\Users\\csliv\\anaconda3\\Lib\\site-packages\\matplotlib\\axes\\_axes.py:4787\u001b[0m, in \u001b[0;36mAxes.scatter\u001b[1;34m(self, x, y, s, c, marker, cmap, norm, vmin, vmax, alpha, linewidths, edgecolors, plotnonfinite, **kwargs)\u001b[0m\n\u001b[0;32m   4785\u001b[0m y \u001b[38;5;241m=\u001b[39m np\u001b[38;5;241m.\u001b[39mma\u001b[38;5;241m.\u001b[39mravel(y)\n\u001b[0;32m   4786\u001b[0m \u001b[38;5;28;01mif\u001b[39;00m x\u001b[38;5;241m.\u001b[39msize \u001b[38;5;241m!=\u001b[39m y\u001b[38;5;241m.\u001b[39msize:\n\u001b[1;32m-> 4787\u001b[0m     \u001b[38;5;28;01mraise\u001b[39;00m \u001b[38;5;167;01mValueError\u001b[39;00m(\u001b[38;5;124m\"\u001b[39m\u001b[38;5;124mx and y must be the same size\u001b[39m\u001b[38;5;124m\"\u001b[39m)\n\u001b[0;32m   4789\u001b[0m \u001b[38;5;28;01mif\u001b[39;00m s \u001b[38;5;129;01mis\u001b[39;00m \u001b[38;5;28;01mNone\u001b[39;00m:\n\u001b[0;32m   4790\u001b[0m     s \u001b[38;5;241m=\u001b[39m (\u001b[38;5;241m20\u001b[39m \u001b[38;5;28;01mif\u001b[39;00m mpl\u001b[38;5;241m.\u001b[39mrcParams[\u001b[38;5;124m'\u001b[39m\u001b[38;5;124m_internal.classic_mode\u001b[39m\u001b[38;5;124m'\u001b[39m] \u001b[38;5;28;01melse\u001b[39;00m\n\u001b[0;32m   4791\u001b[0m          mpl\u001b[38;5;241m.\u001b[39mrcParams[\u001b[38;5;124m'\u001b[39m\u001b[38;5;124mlines.markersize\u001b[39m\u001b[38;5;124m'\u001b[39m] \u001b[38;5;241m*\u001b[39m\u001b[38;5;241m*\u001b[39m \u001b[38;5;241m2.0\u001b[39m)\n",
      "\u001b[1;31mValueError\u001b[0m: x and y must be the same size"
     ]
    },
    {
     "data": {
      "image/png": "[encoded data removed]",
      "text/plain": [
       "<Figure size 640x480 with 1 Axes>"
      ]
     },
     "metadata": {},
     "output_type": "display_data"
    }
   ],
   "source": [
    "# Plotting\n",
    "plt.scatter(X, y, color='blue', label='Data Points')  # Scatter plot of the data\n",
    "plt.plot(X_test, predictions, color='red', label='Regression Line')  # Regression line\n",
    "plt.xlabel('X')\n",
    "plt.ylabel('Y')\n",
    "plt.title('Linear Regression Example')\n",
    "plt.legend()\n",
    "plt.show()"
   ]
  },
  {
   "attachments": {
    "image.png": {
     "image/png": "[encoded data removed]"
    }
   },
   "cell_type": "markdown",
   "metadata": {
    "id": "vPcBxc85HUvp"
   },
   "source": [
    "## Expected Outcomes\n",
    "\n",
    "By the end of this project, students will:\n",
    "- Understand basic Python data manipulation and visualization techniques.\n",
    "- Grasp the concept of arbitrage in real estate.\n",
    "- Be able to calculate and interpret simple statistics for arbitrage.\n",
    "- Gain an introduction to predictive modeling using machine learning.\n",
    "\n",
    "## Deliverables\n",
    "\n",
    "- A completed Python notebook (.ipynb) in Google Colab with code, visualizations, and interpretations.\n",
    "- A summary of findings identifying potential arbitrage opportunities.\n",
    "\n",
    "## Resources\n",
    "\n",
    "![image.png](attachment:image.png)\n",
    "\n",
    "Real Estate:\n",
    "- Article: [Real Estate Arbitrage Explained](https://www.therealreturns.com/real-estate-investing/real-estate-arbitrage/?utm_source=chatgpt.com), 4 Categories of Arbitrage with Pros and Cons\n",
    "- Article: [Real Estate Arbitrage: A Complete Guide for Beginners](https://www.mashvisor.com/blog/real-estate-arbitrage/?utm_source=chatgpt.com), an Overview\n",
    "- Article: [Rental Arbitrage: What Landlords and Tenants Need to Know](https://www.fool.com/investing/stock-market/market-sectors/real-estate-investing/basics/rental-arbitrage/?utm_source=chatgpt.com), Specifically Rental Arbitrage\n",
    "- Video: [Real Estate Arbitrage (Master Lease) - Masterclass Video 8 w/ Pace Morby](https://www.youtube.com/watch?v=luui3S0CI6o)\n",
    "- Video: [Real Estate Investing: Three Types of Real Estate Arbitrage](https://www.youtube.com/watch?v=HFGA-Xh-FDw)\n",
    "- Video: [What Is Arbitrage In Real Estate?](https://www.youtube.com/watch?v=HQBjVDBMHYg)"
   ]
  }
 ],
 "metadata": {
  "colab": {
   "authorship_tag": "ABX9TyPqklM3w0Cs7M3jzFzjiB4O",
   "collapsed_sections": [
    "PxfaclfeB9eB",
    "u-THQkxxCQ_2",
    "7yrBmyEdEMqP",
    "uYVlWzpbEaw-",
    "3_5gDcKYE_c6",
    "33UAlPeeFYRF",
    "DRGLLSTQGZ9J",
    "BShde4MJGi3J"
   ],
   "provenance": [],
   "toc_visible": true
  },
  "kernelspec": {
   "display_name": "base",
   "language": "python",
   "name": "python3"
  },
  "language_info": {
   "codemirror_mode": {
    "name": "ipython",
    "version": 3
   },
   "file_extension": ".py",
   "mimetype": "text/x-python",
   "name": "python",
   "nbconvert_exporter": "python",
   "pygments_lexer": "ipython3",
   "version": "3.12.7"
  }
 },
 "nbformat": 4,
 "nbformat_minor": 0
}
